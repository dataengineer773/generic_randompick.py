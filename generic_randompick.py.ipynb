{
 "cells": [
  {
   "cell_type": "code",
   "execution_count": 1,
   "id": "857be8b7-5fe1-4f9a-b7a4-4e2c08cc1914",
   "metadata": {},
   "outputs": [],
   "source": [
    "from typing import Protocol, runtime_checkable, TypeVar"
   ]
  },
  {
   "cell_type": "code",
   "execution_count": 2,
   "id": "ce57cf06-649d-490f-9560-d93653f8bcea",
   "metadata": {},
   "outputs": [],
   "source": [
    "T_co = TypeVar('T_co', covariant=True)"
   ]
  },
  {
   "cell_type": "code",
   "execution_count": null,
   "id": "667e1286-e9eb-4751-9a45-281c0f2fa17c",
   "metadata": {},
   "outputs": [],
   "source": [
    "@runtime_checkable\n",
    "class RandomPicker(Protocol"
   ]
  }
 ],
 "metadata": {
  "kernelspec": {
   "display_name": "Python 3 (ipykernel)",
   "language": "python",
   "name": "python3"
  },
  "language_info": {
   "codemirror_mode": {
    "name": "ipython",
    "version": 3
   },
   "file_extension": ".py",
   "mimetype": "text/x-python",
   "name": "python",
   "nbconvert_exporter": "python",
   "pygments_lexer": "ipython3",
   "version": "3.12.3"
  }
 },
 "nbformat": 4,
 "nbformat_minor": 5
}
